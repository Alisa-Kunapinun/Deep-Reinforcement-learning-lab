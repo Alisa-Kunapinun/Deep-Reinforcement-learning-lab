{
 "cells": [
  {
   "cell_type": "markdown",
   "metadata": {},
   "source": [
    "# Lab 02: Markov Decision Process\n",
    "\n",
    "Reference:\n",
    "\n",
    "- Pytorch 1.x Reinforcement Learning Cookbook (Packtpub)\n",
    "- Hands-On Reinforcement Learning for Games (Packtpub)\n",
    "- https://www.kdnuggets.com/2018/03/5-things-reinforcement-learning.html\n",
    "- Reinforcement Learning: An Introduction (Sutton et al.)\n",
    "- https://github.com/werner-duvaud/muzero-general (simulator code)"
   ]
  },
  {
   "cell_type": "markdown",
   "metadata": {},
   "source": [
    "## What is Markov decision process?\n",
    "Markov decision process (MDP) is a discrete-time stochastic control process.\n",
    "It provides a mathematical framework for modeling decision making in situations where outcomes are partly random and partly under the control of a decision maker.\n",
    "MDPs are useful for studying optimization problems solved via dynamic programming.\n",
    "They are used in many disciplines, including robotics, automatic control, economics and manufacturing.\n",
    "\n",
    "The MDP model is based on the idea of an environment that evolves as a Markov chain."
   ]
  },
  {
   "cell_type": "markdown",
   "metadata": {},
   "source": [
    "### Markov chain\n",
    "\n",
    "A Markov chain is a model of the dynamics of a discrete time system that obeys the (first order) **Markov property**, meaning that *the state $s^{t+1}$ at time $t+1$ is conditionally given the state at time $t$, but it is independent of the state at times $0, \\ldots, t-1$*, i.e.,\n",
    "\n",
    "$$ p(s^{t+1} \\mid s^t, s^{t-1}, \\ldots, s^0) = p(s^{t+1} \\mid s^t). $$\n",
    "\n",
    "We might say that **the current state is all you need to know to predict the next state**.\n",
    "\n",
    "A Markov chain is defined by a set of possible states $S={s_0, s_1, \\ldots, s_n}$ and a transition matrix $T(s,s')$ containing the propbabilities of state $s$ (current state) transitioning to state $s'$ (next state).\n",
    "\n",
    "Here is a visualization of a simple Markov chain:\n",
    "\n",
    "<img src=\"img/RL_markov.png\" title=\"Markov chain\" style=\"width: 600px;\" />\n",
    "\n",
    "You might be interested in [this Markov chain simulator](https://setosa.io/ev/markov-chains/) and the [full screen diagram](https://setosa.io/markov/index.html)."
   ]
  },
  {
   "cell_type": "markdown",
   "metadata": {},
   "source": [
    "### Creating a Markov chain\n",
    "\n",
    "Assume we have **Three states** (**A**, **B**, **C**), the Markov chain is:\n",
    "\n",
    "<img src=\"img/MarkovChain.PNG\" title=\"Markov chain example\" style=\"width: 400px;\" />\n",
    "\n",
    "The transition matrix is:\n",
    "\n",
    "$$\n",
    "T =\n",
    "\\begin{bmatrix}\n",
    "0.3 & 0.5 & 0.2 \\\\ \n",
    "0.8 & 0.1 & 0.1 \\\\\n",
    "0.1 & 0.3 & 0.6\n",
    "\\end{bmatrix}\n",
    "$$\n",
    "\n",
    "Each row means current state, and each column means the next state to go. If you consider $0.5$ in the matrix (row 0, and column 1), you can say that \"now you are in state **A** and the possible to go to next state of **B** is 0.5\""
   ]
  },
  {
   "cell_type": "code",
   "execution_count": 24,
   "metadata": {},
   "outputs": [
    {
     "name": "stdout",
     "output_type": "stream",
     "text": [
      "tensor([[0.3000, 0.5000, 0.2000],\n",
      "        [0.8000, 0.1000, 0.1000],\n",
      "        [0.1000, 0.3000, 0.6000]])\n"
     ]
    }
   ],
   "source": [
    "# import pytorch\n",
    "import torch\n",
    "\n",
    "T = torch.tensor([[0.3, 0.5, 0.2],\n",
    "                  [0.8, 0.1, 0.1],\n",
    "                  [0.1, 0.3, 0.6]])\n",
    "\n",
    "# show the matrix\n",
    "print(T)"
   ]
  },
  {
   "cell_type": "markdown",
   "metadata": {},
   "source": [
    "#### Probability after k steps\n",
    "\n",
    "The probability after $k$ steps equation is:\n",
    "$$ T_n = T^n $$\n",
    "\n",
    "Thus, if we want to find the T state at step 2, 5, 10, 20, we can do as:"
   ]
  },
  {
   "cell_type": "code",
   "execution_count": 25,
   "metadata": {},
   "outputs": [
    {
     "name": "stdout",
     "output_type": "stream",
     "text": [
      "state transition at k=2: tensor([[0.5100, 0.2600, 0.2300],\n",
      "        [0.3300, 0.4400, 0.2300],\n",
      "        [0.3300, 0.2600, 0.4100]])\n",
      "state transition at k=5: tensor([[0.3991, 0.3230, 0.2779],\n",
      "        [0.4153, 0.3100, 0.2746],\n",
      "        [0.3926, 0.3165, 0.2908]])\n",
      "state transition at k=10: tensor([[0.4026, 0.3170, 0.2804],\n",
      "        [0.4024, 0.3172, 0.2804],\n",
      "        [0.4024, 0.3170, 0.2806]])\n",
      "state transition at k=20: tensor([[0.4024, 0.3171, 0.2805],\n",
      "        [0.4024, 0.3171, 0.2805],\n",
      "        [0.4024, 0.3171, 0.2805]])\n"
     ]
    }
   ],
   "source": [
    "T_2 = torch.matrix_power(T,2)\n",
    "print('state transition at k=2:', T_2)\n",
    "T_5 = torch.matrix_power(T,5)\n",
    "print('state transition at k=5:', T_5)\n",
    "T_10 = torch.matrix_power(T,10)\n",
    "print('state transition at k=10:', T_10)\n",
    "T_20 = torch.matrix_power(T,20)\n",
    "print('state transition at k=20:', T_20)"
   ]
  },
  {
   "cell_type": "markdown",
   "metadata": {},
   "source": [
    "The state transition after step 10 to 20 steps are going to converges. This means that, no matter what state the process is in, it has the same probability of transitioning to A (40.24%), B (31.71%), and C (28.05%)."
   ]
  },
  {
   "cell_type": "markdown",
   "metadata": {},
   "source": [
    "Assume we have the initial distribution of three state is:\n",
    "\n",
    "$$\n",
    "V=\n",
    "\\begin{bmatrix}\n",
    "0.2 & 0.5 & 0.3\n",
    "\\end{bmatrix}\n",
    "$$\n",
    "\n",
    "The initial distribution means you can go to any states at the first time, but it depends on the probability. In this matrix, we can say that there are possible to go to state A more than other states."
   ]
  },
  {
   "cell_type": "code",
   "execution_count": 26,
   "metadata": {},
   "outputs": [
    {
     "name": "stdout",
     "output_type": "stream",
     "text": [
      "tensor([[0.2000, 0.5000, 0.3000]])\n"
     ]
    }
   ],
   "source": [
    "V_0 = torch.tensor([[0.2, 0.5, 0.3]])\n",
    "\n",
    "print(V_0)"
   ]
  },
  {
   "cell_type": "markdown",
   "metadata": {},
   "source": [
    "Try to calculate the state distribution after state 1, 2, 5, 10, and 20"
   ]
  },
  {
   "cell_type": "code",
   "execution_count": 27,
   "metadata": {},
   "outputs": [
    {
     "name": "stdout",
     "output_type": "stream",
     "text": [
      "Distribution of states after 1 step:\n",
      "tensor([[0.4900, 0.2400, 0.2700]])\n",
      "\n",
      "Distribution of states after 2 step:\n",
      "tensor([[0.3660, 0.3500, 0.2840]])\n",
      "\n",
      "Distribution of states after 5 step:\n",
      "tensor([[0.4053, 0.3146, 0.2801]])\n",
      "\n",
      "Distribution of states after 10 step:\n",
      "tensor([[0.4024, 0.3171, 0.2805]])\n",
      "\n",
      "Distribution of states after 20 step:\n",
      "tensor([[0.4024, 0.3171, 0.2805]])\n",
      "\n"
     ]
    }
   ],
   "source": [
    "V_1 = torch.mm(V_0, T)\n",
    "print(\"Distribution of states after 1 step:\\n{}\\n\".format(V_1))\n",
    "V_2 = torch.mm(V_0, T_2)\n",
    "print(\"Distribution of states after 2 step:\\n{}\\n\".format(V_2))\n",
    "V_5 = torch.mm(V_0, T_5)\n",
    "print(\"Distribution of states after 5 step:\\n{}\\n\".format(V_5))\n",
    "V_10 = torch.mm(V_0, T_10)\n",
    "print(\"Distribution of states after 10 step:\\n{}\\n\".format(V_10))\n",
    "V_20 = torch.mm(V_0, T_20)\n",
    "print(\"Distribution of states after 20 step:\\n{}\\n\".format(V_20))"
   ]
  },
  {
   "cell_type": "markdown",
   "metadata": {},
   "source": [
    "We can see that, after 10 steps, the state distribution converges. The probability of being in A (40.24%), B (31.71%) and the probability of being in s1 (28.05%) remain unchanged in the long run.\n",
    "\n",
    "Starting with $[0.2,0.5,0.3]$, the state distribution after one iteration becomes $[0.4024, 0.3171, 0.2805]$. Details of its calculation are illustrated in the following diagram:\n",
    "\n",
    "<img src=\"img/MarkovDistributionChart.png\" title=\"Markov chain example\" style=\"width: 600px;\" />"
   ]
  },
  {
   "cell_type": "markdown",
   "metadata": {},
   "source": [
    "### Come back to MDP\n",
    "\n",
    "MDP is slightly different from a simple Markov chain because MDP has to consider agent's actions which affect to the system's dynamics.\n",
    "Thus, not only probability of transition of nextstate, but also agent's action need to be calculate. We assign $A$ as all possible actions and $a$ as the action which agent selects (at this situation, $a$ must be in $A$ or $a \\in A$.\n",
    "\n",
    "The transition probabilities become a **3D tensor** of size $|S|\\times |A|\\times |S|$\n",
    "mapping each state/action pair to a probability distribution over the states."
   ]
  },
  {
   "cell_type": "markdown",
   "metadata": {},
   "source": [
    "### A simple MDP\n",
    "\n",
    "Suppose we have **three states (s0, s1, s2) and two actions (a0, a1)** and that the state/action transition tensor is as follows:\n",
    "\n",
    "$$T=\n",
    "\\begin{cases}\n",
    " &\n",
    "\\begin{bmatrix}\n",
    "0.8 & 0.1 & 0.1 \\\\ \n",
    "0.1 & 0.6 & 0.3\n",
    "\\end{bmatrix} \\\\ \n",
    " & \n",
    "\\begin{bmatrix}\n",
    "0.7 & 0.2 & 0.1 \\\\ \n",
    "0.1 & 0.8 & 0.1\n",
    "\\end{bmatrix} \\\\  \n",
    " & \n",
    "\\begin{bmatrix}\n",
    "0.6 & 0.2 & 0.2 \\\\ \n",
    "0.1 & 0.4 & 0.5\n",
    "\\end{bmatrix}\n",
    "\\end{cases}\n",
    "$$\n",
    "\n",
    "The first matrix block is mean current state $s0$, second block is $s1$, and the third block is $s2$.\n",
    "\n",
    "Consider into the matrix block, the rows of matrix block mean actions (a0 is 1st row, and a1 is 2nd row). And the columns of matix block is the same as Markov Chain: next state $s'$"
   ]
  },
  {
   "cell_type": "code",
   "execution_count": 28,
   "metadata": {},
   "outputs": [
    {
     "name": "stdout",
     "output_type": "stream",
     "text": [
      "tensor([[[0.8000, 0.1000, 0.1000],\n",
      "         [0.1000, 0.6000, 0.3000]],\n",
      "\n",
      "        [[0.7000, 0.2000, 0.1000],\n",
      "         [0.1000, 0.8000, 0.1000]],\n",
      "\n",
      "        [[0.6000, 0.2000, 0.2000],\n",
      "         [0.1000, 0.4000, 0.5000]]])\n"
     ]
    }
   ],
   "source": [
    "# State transition function\n",
    "T = torch.tensor([[[0.8, 0.1, 0.1],\n",
    "                   [0.1, 0.6, 0.3]],\n",
    "                  [[0.7, 0.2, 0.1],\n",
    "                   [0.1, 0.8, 0.1]],\n",
    "                  [[0.6, 0.2, 0.2],\n",
    "                   [0.1, 0.4, 0.5]]])\n",
    "\n",
    "# show the matrix\n",
    "print(T)"
   ]
  },
  {
   "cell_type": "markdown",
   "metadata": {},
   "source": [
    "Assume we want to observe at state 2, and see the probability to change to state 1 with playing action 0, we can write in code with"
   ]
  },
  {
   "cell_type": "code",
   "execution_count": 29,
   "metadata": {},
   "outputs": [
    {
     "data": {
      "text/plain": [
       "tensor(0.2000)"
      ]
     },
     "execution_count": 29,
     "metadata": {},
     "output_type": "execute_result"
    }
   ],
   "source": [
    "T[2,0,1]"
   ]
  },
  {
   "cell_type": "markdown",
   "metadata": {},
   "source": [
    "To complete our simple MDP, we need a *reward function* $R$ and a *discount factor* $\\gamma$.\n",
    "\n",
    "**reward function $R$** is a set of rewards that depend on the state and the action taken.\n",
    "\n",
    "**discount factor $\\gamma$** is how important future rewards are to the current state. Discount factor is a value between 0 and 1. A reward $R$ that occurs $n$ steps in the future from the current state, is multiplied by $\\gamma^n$ to describe its importance to the current state (Thus, current reward is $\\gamma^tR$, where $t$ is a number step.\n",
    "\n",
    "Suppose $R = [ -1, 0.1, 0.9 ]$ and $\\gamma = 0.5$. Let's define our MDP in Python with PyTorch tensors:"
   ]
  },
  {
   "cell_type": "code",
   "execution_count": 30,
   "metadata": {},
   "outputs": [],
   "source": [
    "# Reward function\n",
    "R = torch.tensor([-1.,0.1,0.9])\n",
    "\n",
    "# Discount factor\n",
    "gamma = 0.5"
   ]
  },
  {
   "cell_type": "markdown",
   "metadata": {},
   "source": [
    "### The agent's goal\n",
    "\n",
    "Once the MDP is defined, the agent's goal is to **maximize its expected reward**.\n",
    "\n",
    "If we start in state $s^0$ and perform a series of actions $a^0, a^1, \\ldots a^{T-1}$ placing us in state $s^1, s^2, \\ldots s^T$, we obtain the total reward $R_F$\n",
    "\n",
    "$$R_F=\\sum_{t=0}^T \\gamma^{t} R(s^t)$$\n",
    "\n",
    "The agent's goal is to behave so as to maximize the expected total reward. To do so,\n",
    "it should come up with a policy $\\pi : S \\times A \\rightarrow \\mathbb{R}$ giving a probability distribution\n",
    "over actions that can be executed in each state, then when in state $s$, sample action $a$ according to that\n",
    "distribution $\\pi(s,\\cdot)$, and repeat.\n",
    "\n",
    "Now the agent's goal can be clearly specified as finding an optimal policy\n",
    "\n",
    "$$ \\pi^* = \\textrm{argmax}_\\pi \\mathbb{E}_{a^t \\sim \\pi(s^t), s^{t} \\sim T(s^{t-1},a^{t-1})}\\left[ \\sum_{t=0}^T \\gamma^{t} R(s^t) \\right]$$\n",
    "\n",
    "Under a particular policy $\\pi$, then, the *value* of state $s$ is the expected reward we obtain by following $\\pi$ from state $s$:\n",
    "\n",
    "$$ V^\\pi(s) = \\mathbb{E}_{a^t \\sim \\pi(s^t), s^{t} \\sim T(s^{t-1},a^{t-1}) \\mid s^0=s}\\left[ R(s) + \\sum_{t=1}^T \\gamma^{t} R(s^t) \\right]$$\n",
    "\n",
    "The value function clearly obeys the *Bellman equations*\n",
    "\n",
    "$$ V^\\pi(s) = R(s) + \\gamma \\sum_{s',a'} \\pi(s,a') T(s,a',s') V^\\pi(s'). $$ \n",
    "\n",
    "#### Too difficult?\n",
    "\n",
    "OK, lets see the easier version of equation\n",
    "\n",
    "The equation of V relate at time t is:\n",
    "\n",
    "$$V_{t+1}=R+\\gamma * T * V_t$$\n",
    "\n",
    "When the value converges, which mean $V_{t+1}=V_t$, so we can derive the value $V$ as:\n",
    "\n",
    "$$\n",
    "V=R+\\gamma * T * V \\\\\n",
    "V = (I-\\gamma * T)^{-1} * R.\n",
    "$$\n",
    "\n",
    "The function can be writed as:"
   ]
  },
  {
   "cell_type": "code",
   "execution_count": 32,
   "metadata": {},
   "outputs": [],
   "source": [
    "def cal_value_matrix_inversion(gamma, trans_matrix, rewards):\n",
    "    inv = torch.inverse(torch.eye(rewards.shape[0]) - gamma * trans_matrix)\n",
    "    V = torch.mm(inv, rewards.reshape(-1, 1))\n",
    "    return V"
   ]
  },
  {
   "cell_type": "markdown",
   "metadata": {},
   "source": [
    "Asume that we select action $a_0$ in all curcumstances."
   ]
  },
  {
   "cell_type": "code",
   "execution_count": 31,
   "metadata": {},
   "outputs": [],
   "source": [
    "action = 0"
   ]
  },
  {
   "cell_type": "markdown",
   "metadata": {},
   "source": [
    "Find transition matrix:"
   ]
  },
  {
   "cell_type": "code",
   "execution_count": 34,
   "metadata": {},
   "outputs": [
    {
     "name": "stdout",
     "output_type": "stream",
     "text": [
      "tensor([[0.8000, 0.1000, 0.1000],\n",
      "        [0.7000, 0.2000, 0.1000],\n",
      "        [0.6000, 0.2000, 0.2000]])\n"
     ]
    }
   ],
   "source": [
    "trans_matrix = T[:, action]\n",
    "\n",
    "print(trans_matrix)"
   ]
  },
  {
   "cell_type": "markdown",
   "metadata": {},
   "source": [
    "Calculate value from the bellman equation above:"
   ]
  },
  {
   "cell_type": "code",
   "execution_count": 35,
   "metadata": {},
   "outputs": [
    {
     "name": "stdout",
     "output_type": "stream",
     "text": [
      "The value function under the optimal policy is:\n",
      "tensor([[-1.6781],\n",
      "        [-0.5202],\n",
      "        [ 0.3828]])\n"
     ]
    }
   ],
   "source": [
    "V = cal_value_matrix_inversion(gamma, trans_matrix, R)\n",
    "\n",
    "print(\"The value function under the optimal policy is:\\n{}\".format(V))"
   ]
  },
  {
   "cell_type": "markdown",
   "metadata": {},
   "source": [
    "### Lab exercise 1\n",
    "\n",
    "1. Try to use different $\\gamma$ values from 0 to 1 for 5 values. 0 means we only care about the immediate reward, and 1 means we do not care the reward\n",
    "2. Try to find the value $V$ in step $k=1,2,3,..,10$ with the action $a_0$ and random action. Show the output."
   ]
  },
  {
   "cell_type": "code",
   "execution_count": null,
   "metadata": {},
   "outputs": [],
   "source": [
    "# Your code here"
   ]
  },
  {
   "cell_type": "markdown",
   "metadata": {},
   "source": [
    "### Policy evaluation\n",
    "\n",
    "To determine how good a particular policy is, we use policy evaluation.\n",
    "Policy evaluation is an iterative algorithm. It starts with arbitrary values for each state\n",
    "and then iteratively updates the values based on the Bellman equations until the values converge. Assume $\\pi$ is the value of a policy, the update equation is:\n",
    "\n",
    "$$ V(s) = \\sum_a \\pi(s,a) \\left[ R(s,a) + \\gamma \\sum_{s'} T(s,a',s') V(s') \\right] $$ \n",
    "\n",
    "$\\pi(s,a)$: the probability of taking action $a$ in stat $s$ under policy $\\pi$\n",
    "$R(s,a)$: the reward received in state $s$ by taking action $a$\n",
    "\n",
    "You can see this algorithm's pseudocode in Sutton's book on page 75.\n",
    "\n",
    "Because Policy evaluation is a loop processing, you need to stop by conditions. There are 2 ways to terminate the iterative updating process.\n",
    "- Fix number of iterations\n",
    "- Set some specific threshold and terminating the process when the values of all states change to lower than the threshold.\n",
    "\n",
    "Here we compute the value of the three states in our MDP assuming the agent always peforms the first action. The function process are:\n",
    "\n",
    "1. Initializes the policy values as all zeros.\n",
    "2. Updates the values based on the Bellman expectation equation.\n",
    "3. Computes the maximal change of the values across all states.\n",
    "4. If the maximal change is greater than the threshold, it keeps updating the values. Otherwise, it terminates the evaluation process and returns the latest values."
   ]
  },
  {
   "cell_type": "code",
   "execution_count": 40,
   "metadata": {},
   "outputs": [],
   "source": [
    "def policy_evaluation(policy, trans_matrix, rewards, gamma, threshold):\n",
    "    \"\"\"\n",
    "    Perform policy evaluation\n",
    "    @param policy: policy matrix containing actions and their \n",
    "                            probability in each state\n",
    "    @param trans_matrix: transformation matrix\n",
    "    @param rewards: rewards for each state\n",
    "    @param gamma: discount factor\n",
    "    @param threshold: the evaluation will stop once values \n",
    "                           for all states are less than the threshold\n",
    "    @return: values of the given policy for all possible states\n",
    "    \"\"\"\n",
    "    n_state = policy.shape[0]\n",
    "    V = torch.zeros(n_state)\n",
    "    V_his = [V]\n",
    "    i = 0\n",
    "    while True:\n",
    "        V_temp = torch.zeros(n_state)\n",
    "        i += 1\n",
    "        for state, actions in enumerate(policy):\n",
    "            for action, action_prob in enumerate(actions):\n",
    "                V_temp[state] += action_prob * (R[state] + gamma * torch.dot(trans_matrix[state, action], V))\n",
    "        max_delta = torch.max(torch.abs(V - V_temp))\n",
    "        V = V_temp.clone()\n",
    "        V_his.append(V)\n",
    "        if max_delta <= threshold:\n",
    "            break\n",
    "    return V, V_his"
   ]
  },
  {
   "cell_type": "markdown",
   "metadata": {},
   "source": [
    "Define the threshold used to determine when to stop the evaluation process and the optimal policy where action a0 is chosen under all circumstances:"
   ]
  },
  {
   "cell_type": "code",
   "execution_count": 41,
   "metadata": {},
   "outputs": [],
   "source": [
    "threshold = 0.0001\n",
    "\n",
    "policy_optimal = torch.tensor([[1.0, 0.0],\n",
    "                               [1.0, 0.0],\n",
    "                               [1.0, 0.0]])"
   ]
  },
  {
   "cell_type": "markdown",
   "metadata": {},
   "source": [
    "Using the policy_evaluation function to find the optimal policy:"
   ]
  },
  {
   "cell_type": "code",
   "execution_count": 45,
   "metadata": {},
   "outputs": [
    {
     "name": "stdout",
     "output_type": "stream",
     "text": [
      "The value function under the optimal policy is:\n",
      "tensor([-1.6780, -0.5201,  0.3829])\n"
     ]
    }
   ],
   "source": [
    "V, V_his = policy_evaluation(policy_optimal, T, R, gamma, threshold)\n",
    "\n",
    "print(\"The value function under the optimal policy is:\\n{}\".format(V))"
   ]
  },
  {
   "cell_type": "markdown",
   "metadata": {},
   "source": [
    "Plot the resulting history of values:"
   ]
  },
  {
   "cell_type": "code",
   "execution_count": 58,
   "metadata": {},
   "outputs": [],
   "source": [
    "import matplotlib.pyplot as plt\n",
    "\n",
    "def plot_history(V_history, gamma):\n",
    "    s = []\n",
    "    text = []\n",
    "    for i in range(len(V_history[0])):\n",
    "        s_x, = plt.plot([v[i] for v in V_history])\n",
    "        s.append(s_x)\n",
    "        text.append('State s' + str(i))\n",
    "\n",
    "    plt.title('Optimal policy with gamma = {}'.format(str(gamma)))\n",
    "    plt.xlabel('Iteration')\n",
    "    plt.ylabel('Policy values')\n",
    "    plt.legend(s, text, loc=\"upper left\")\n",
    "    \n",
    "    plt.show()"
   ]
  },
  {
   "cell_type": "code",
   "execution_count": 59,
   "metadata": {},
   "outputs": [
    {
     "data": {
      "image/png": "[encoded data removed]",
      "text/plain": [
       "<Figure size 432x288 with 1 Axes>"
      ]
     },
     "metadata": {
      "needs_background": "light"
     },
     "output_type": "display_data"
    }
   ],
   "source": [
    "plot_history(V_his, gamma)"
   ]
  },
  {
   "cell_type": "markdown",
   "metadata": {},
   "source": [
    "### Lab exercise 2\n",
    "\n",
    "1. Change discount factor to 0.1, 0.2, and 0.99 and plot the results."
   ]
  },
  {
   "cell_type": "code",
   "execution_count": 60,
   "metadata": {},
   "outputs": [],
   "source": [
    "# Your code here"
   ]
  },
  {
   "cell_type": "markdown",
   "metadata": {},
   "source": [
    "### Value iteration algorithm\n",
    "\n",
    "The idea behind value iteration is quite similar to that of policy evaluation. It is also an iterative algorithm. It starts with arbitrary policy values and then iteratively updates the values based on the Bellman optimality equation until they converge. So in each iteration, instead of taking the expectation (average) of values across all actions, it picks the action that achieves the maximal policy values:\n",
    "\n",
    "$$ V^*(s) = \\max_a \\left[ R(s,a) + \\gamma \\sum_{s'} T(s,a',s') V^*(s') \\right] $$ \n",
    "\n",
    "$V^*(s)$ denotes the optimal value, which is the value of the optimal policy\n",
    "\n",
    "Once the optimal values are computed, we obtain the optimal policy:\n",
    "\n",
    "$$ \\pi^*(s) = \\text{argmax}_a \\sum_{s'}T(s,a,s') \\left[ R(s,a) + \\gamma V^*(s') \\right] $$ "
   ]
  },
  {
   "cell_type": "markdown",
   "metadata": {},
   "source": [
    "### Apply it to gym environment\n",
    "\n",
    "In this step, we try to use *FrozenLake* environment to see how to implement the value iteration.\n",
    "\n",
    "FrozenLake is a typical Gym environment with a discrete state space. It is about moving an agent from the starting location to the goal location in a grid world, and at the same time avoiding traps. Currently, We use four by four grid (https://gym.openai.com/envs/FrozenLake-v0/)."
   ]
  },
  {
   "cell_type": "markdown",
   "metadata": {},
   "source": [
    "Import gym library and pytorch library."
   ]
  },
  {
   "cell_type": "code",
   "execution_count": 2,
   "metadata": {},
   "outputs": [],
   "source": [
    "import gym\n",
    "import torch"
   ]
  },
  {
   "cell_type": "markdown",
   "metadata": {},
   "source": [
    "Create Frozen environment and take a look states and actions"
   ]
  },
  {
   "cell_type": "code",
   "execution_count": 16,
   "metadata": {},
   "outputs": [
    {
     "name": "stdout",
     "output_type": "stream",
     "text": [
      "number of states: 16\n",
      "number of actions: 4\n"
     ]
    }
   ],
   "source": [
    "env = gym.make(\"FrozenLake-v1\")\n",
    "\n",
    "n_state = env.observation_space.n\n",
    "print(\"number of states:\", n_state)\n",
    "\n",
    "n_action = env.action_space.n\n",
    "print(\"number of actions:\", n_action)"
   ]
  },
  {
   "cell_type": "markdown",
   "metadata": {},
   "source": [
    "Reset and render the environment. Because the graphical of the environment is **text** style and no image pop-up. We can use render() directly."
   ]
  },
  {
   "cell_type": "code",
   "execution_count": 46,
   "metadata": {
    "scrolled": true
   },
   "outputs": [
    {
     "name": "stdout",
     "output_type": "stream",
     "text": [
      "\n",
      "\u001b[41mS\u001b[0mFFF\n",
      "FHFH\n",
      "FFFH\n",
      "HFFG\n",
      "state:  0\n"
     ]
    }
   ],
   "source": [
    "state = env.reset()\n",
    "env.render()\n",
    "\n",
    "print(\"state: \", state)"
   ]
  },
  {
   "cell_type": "markdown",
   "metadata": {},
   "source": [
    "Try to put an down action to make the agent work."
   ]
  },
  {
   "cell_type": "code",
   "execution_count": 47,
   "metadata": {
    "scrolled": true
   },
   "outputs": [
    {
     "name": "stdout",
     "output_type": "stream",
     "text": [
      "  (Down)\n",
      "S\u001b[41mF\u001b[0mFF\n",
      "FHFH\n",
      "FFFH\n",
      "HFFG\n"
     ]
    }
   ],
   "source": [
    "left = 0\n",
    "down = 1\n",
    "right = 2\n",
    "up = 3\n",
    "new_state, reward, is_done, info = env.step(down)\n",
    "env.render()"
   ]
  },
  {
   "cell_type": "markdown",
   "metadata": {},
   "source": [
    "Check the output of environment class after take action. In the <code>info</code>, and <code>new_state</code>, it says that the agent lands in <code>new_state</code>, with probability 0.3333333333333333. The reward is 0 because the agent has not reached the goal and the episode is not done. You might see the agent landing in different state, or staying in state 0 because of the slippery surface."
   ]
  },
  {
   "cell_type": "code",
   "execution_count": 50,
   "metadata": {},
   "outputs": [
    {
     "name": "stdout",
     "output_type": "stream",
     "text": [
      "state:  1\n",
      "reward:  0.0\n",
      "Finish?:  False\n",
      "information:  {'prob': 0.3333333333333333}\n"
     ]
    }
   ],
   "source": [
    "print(\"state: \", new_state)\n",
    "\n",
    "print(\"reward: \", reward)\n",
    "\n",
    "print(\"Finish?: \", is_done)\n",
    "\n",
    "print(\"information: \", info)"
   ]
  },
  {
   "cell_type": "markdown",
   "metadata": {},
   "source": [
    "Define a function that simulates a FrozenLake episode given a policy and returns the total reward"
   ]
  },
  {
   "cell_type": "code",
   "execution_count": 63,
   "metadata": {},
   "outputs": [],
   "source": [
    "def run_episode(env, policy, render=False):\n",
    "    state = env.reset()\n",
    "    if render:\n",
    "        env.render()\n",
    "    total_reward = 0\n",
    "    is_done = False\n",
    "    step = 1\n",
    "    while not is_done:\n",
    "        action = policy[state].item()\n",
    "        state, reward, is_done, info = env.step(action)\n",
    "        if render:\n",
    "            print('step: ', step)\n",
    "            env.render()\n",
    "        total_reward += reward\n",
    "        step += 1\n",
    "        if is_done:\n",
    "            break\n",
    "    return total_reward"
   ]
  },
  {
   "cell_type": "markdown",
   "metadata": {},
   "source": [
    "Try to run 500 episodes with random policy, and see the results\n",
    "\n",
    "We randomly generated a policy that was composed of 16 actions for the 16 states. Keep in mind that in FrozenLake, the movement direction is only partially dependent on the chosen action. This increases the uncertainty of control."
   ]
  },
  {
   "cell_type": "code",
   "execution_count": 64,
   "metadata": {},
   "outputs": [
    {
     "name": "stdout",
     "output_type": "stream",
     "text": [
      "Average total reward under random policy: 0.002\n",
      "tensor([1, 1, 0, 3, 1, 0, 1, 0, 3, 0, 2, 2, 1, 2, 1, 3])\n"
     ]
    }
   ],
   "source": [
    "n_episode = 500\n",
    "total_rewards = []\n",
    "\n",
    "for episode in range(n_episode):\n",
    "    # Create random policy with integer value deal to number of actions with n_state size.\n",
    "    random_policy = torch.randint(high=n_action, size=(n_state,))\n",
    "    # run an episode\n",
    "    total_reward = run_episode(env, random_policy)\n",
    "    total_rewards.append(total_reward)\n",
    "    \n",
    "    if total_reward == 1:\n",
    "        best_policy = random_policy\n",
    "        break\n",
    "    \n",
    "print('Average total reward under random policy: {}'.format(sum(total_rewards) / n_episode))\n",
    "# see the best policy\n",
    "print(best_policy)"
   ]
  },
  {
   "cell_type": "markdown",
   "metadata": {},
   "source": [
    "Try to run 500 episodes again using the <code>best_policy</code>, to check that the winning rate is good or not."
   ]
  },
  {
   "cell_type": "code",
   "execution_count": 66,
   "metadata": {},
   "outputs": [
    {
     "name": "stdout",
     "output_type": "stream",
     "text": [
      "Average total reward under best policy: 0.046\n"
     ]
    }
   ],
   "source": [
    "total_rewards = []\n",
    "\n",
    "for episode in range(n_episode):# run an episode\n",
    "    total_reward = run_episode(env, best_policy)\n",
    "    total_rewards.append(total_reward)\n",
    "    \n",
    "print('Average total reward under best policy: {}'.format(sum(total_rewards) / n_episode))"
   ]
  },
  {
   "cell_type": "markdown",
   "metadata": {},
   "source": [
    "See the simulator"
   ]
  },
  {
   "cell_type": "code",
   "execution_count": 69,
   "metadata": {},
   "outputs": [
    {
     "name": "stdout",
     "output_type": "stream",
     "text": [
      "\n",
      "\u001b[41mS\u001b[0mFFF\n",
      "FHFH\n",
      "FFFH\n",
      "HFFG\n",
      "step:  1\n",
      "  (Down)\n",
      "\u001b[41mS\u001b[0mFFF\n",
      "FHFH\n",
      "FFFH\n",
      "HFFG\n",
      "step:  2\n",
      "  (Down)\n",
      "S\u001b[41mF\u001b[0mFF\n",
      "FHFH\n",
      "FFFH\n",
      "HFFG\n",
      "step:  3\n",
      "  (Down)\n",
      "SF\u001b[41mF\u001b[0mF\n",
      "FHFH\n",
      "FFFH\n",
      "HFFG\n",
      "step:  4\n",
      "  (Left)\n",
      "S\u001b[41mF\u001b[0mFF\n",
      "FHFH\n",
      "FFFH\n",
      "HFFG\n",
      "step:  5\n",
      "  (Down)\n",
      "SF\u001b[41mF\u001b[0mF\n",
      "FHFH\n",
      "FFFH\n",
      "HFFG\n",
      "step:  6\n",
      "  (Left)\n",
      "SF\u001b[41mF\u001b[0mF\n",
      "FHFH\n",
      "FFFH\n",
      "HFFG\n",
      "step:  7\n",
      "  (Left)\n",
      "SF\u001b[41mF\u001b[0mF\n",
      "FHFH\n",
      "FFFH\n",
      "HFFG\n",
      "step:  8\n",
      "  (Left)\n",
      "S\u001b[41mF\u001b[0mFF\n",
      "FHFH\n",
      "FFFH\n",
      "HFFG\n",
      "step:  9\n",
      "  (Down)\n",
      "SF\u001b[41mF\u001b[0mF\n",
      "FHFH\n",
      "FFFH\n",
      "HFFG\n",
      "step:  10\n",
      "  (Left)\n",
      "SF\u001b[41mF\u001b[0mF\n",
      "FHFH\n",
      "FFFH\n",
      "HFFG\n",
      "step:  11\n",
      "  (Left)\n",
      "SF\u001b[41mF\u001b[0mF\n",
      "FHFH\n",
      "FFFH\n",
      "HFFG\n",
      "step:  12\n",
      "  (Left)\n",
      "SFFF\n",
      "FH\u001b[41mF\u001b[0mH\n",
      "FFFH\n",
      "HFFG\n",
      "step:  13\n",
      "  (Down)\n",
      "SFFF\n",
      "FHF\u001b[41mH\u001b[0m\n",
      "FFFH\n",
      "HFFG\n",
      "Total reward under best policy: 0.0\n"
     ]
    }
   ],
   "source": [
    "total_reward = run_episode(env, best_policy, True)\n",
    "\n",
    "print('Total reward under best policy: {}'.format(total_reward))"
   ]
  },
  {
   "cell_type": "markdown",
   "metadata": {},
   "source": [
    "### Solving FrozenLake with value iteration\n",
    "\n",
    "At above, we found that the best policy from random policy is not good enough, so let's implement value iteration."
   ]
  },
  {
   "cell_type": "markdown",
   "metadata": {},
   "source": [
    "Set discount factor $\\gamma$ as 0.9 and convergence threshold 0.000001"
   ]
  },
  {
   "cell_type": "code",
   "execution_count": 70,
   "metadata": {},
   "outputs": [],
   "source": [
    "gamma = 0.9\n",
    "threshold = 0.000001"
   ]
  },
  {
   "cell_type": "markdown",
   "metadata": {},
   "source": [
    "Create value iteration function"
   ]
  },
  {
   "cell_type": "code",
   "execution_count": 71,
   "metadata": {},
   "outputs": [],
   "source": [
    "def value_iteration(env, gamma, threshold):\n",
    "    \"\"\"\n",
    "    Solve a given environment with value iteration algorithm\n",
    "    @param env: OpenAI Gym environment\n",
    "    @param gamma: discount factor\n",
    "    @param threshold: the evaluation will stop once values for \n",
    "                       all states are less than the threshold\n",
    "    @return: values of the optimal policy for the given \n",
    "              environment\n",
    "    \"\"\"\n",
    "    n_state = env.observation_space.n\n",
    "    n_action = env.action_space.n\n",
    "    V = torch.zeros(n_state)\n",
    "    while True:\n",
    "        V_temp = torch.empty(n_state)\n",
    "        for state in range(n_state):\n",
    "            v_actions = torch.zeros(n_action)\n",
    "            for action in range(n_action):\n",
    "                # calculate the optimal policy using probability in environment\n",
    "                for trans_prob, new_state, reward, _ in env.env.P[state][action]:\n",
    "                    v_actions[action] += trans_prob * (reward + gamma * V[new_state])\n",
    "            V_temp[state] = torch.max(v_actions)\n",
    "        max_delta = torch.max(torch.abs(V - V_temp))\n",
    "        V = V_temp.clone()\n",
    "        if max_delta <= threshold:\n",
    "            break\n",
    "    return V"
   ]
  },
  {
   "cell_type": "markdown",
   "metadata": {},
   "source": [
    "Find the optimal value using value iteration function"
   ]
  },
  {
   "cell_type": "code",
   "execution_count": 72,
   "metadata": {},
   "outputs": [
    {
     "name": "stdout",
     "output_type": "stream",
     "text": [
      "Optimal values:\n",
      "tensor([0.0689, 0.0614, 0.0744, 0.0558, 0.0918, 0.0000, 0.1122, 0.0000, 0.1454,\n",
      "        0.2475, 0.2996, 0.0000, 0.0000, 0.3799, 0.6390, 0.0000])\n"
     ]
    }
   ],
   "source": [
    "V_optimal = value_iteration(env, gamma, threshold)\n",
    "\n",
    "print('Optimal values:\\n{}'.format(V_optimal))"
   ]
  },
  {
   "cell_type": "markdown",
   "metadata": {},
   "source": [
    "Create a function to extract from optimal value to be optimal policy."
   ]
  },
  {
   "cell_type": "code",
   "execution_count": 73,
   "metadata": {},
   "outputs": [],
   "source": [
    "def extract_optimal_policy(env, V_optimal, gamma):\n",
    "    \"\"\"\n",
    "    Obtain the optimal policy based on the optimal values\n",
    "    @param env: OpenAI Gym environment\n",
    "    @param V_optimal: optimal values\n",
    "    @param gamma: discount factor\n",
    "    @return: optimal policy\n",
    "    \"\"\"\n",
    "    n_state = env.observation_space.n\n",
    "    n_action = env.action_space.n\n",
    "    optimal_policy = torch.zeros(n_state)\n",
    "    for state in range(n_state):\n",
    "        v_actions = torch.zeros(n_action)\n",
    "        for action in range(n_action):\n",
    "            for trans_prob, new_state, reward, _ in env.env.P[state][action]:\n",
    "                v_actions[action] += trans_prob * (reward \n",
    "                           + gamma * V_optimal[new_state])\n",
    "        optimal_policy[state] = torch.argmax(v_actions)\n",
    "    return optimal_policy"
   ]
  },
  {
   "cell_type": "code",
   "execution_count": 74,
   "metadata": {},
   "outputs": [
    {
     "name": "stdout",
     "output_type": "stream",
     "text": [
      "Optimal policy:\n",
      "tensor([0., 3., 0., 3., 0., 0., 0., 0., 3., 1., 0., 0., 0., 2., 1., 0.])\n"
     ]
    }
   ],
   "source": [
    "optimal_policy = extract_optimal_policy(env, V_optimal, gamma)\n",
    "\n",
    "print('Optimal policy:\\n{}'.format(optimal_policy))"
   ]
  },
  {
   "cell_type": "markdown",
   "metadata": {},
   "source": [
    "Try to run 500 episodes again using the <code>optimal_policy</code>, to check that the winning rate is good or not."
   ]
  },
  {
   "cell_type": "code",
   "execution_count": 77,
   "metadata": {},
   "outputs": [
    {
     "name": "stdout",
     "output_type": "stream",
     "text": [
      "Average total reward under optimal policy: 0.728\n"
     ]
    }
   ],
   "source": [
    "total_rewards = []\n",
    "\n",
    "for episode in range(n_episode):# run an episode\n",
    "    total_reward = run_episode(env, optimal_policy)\n",
    "    total_rewards.append(total_reward)\n",
    "    \n",
    "print('Average total reward under optimal policy: {}'.format(sum(total_rewards) / n_episode))"
   ]
  },
  {
   "cell_type": "markdown",
   "metadata": {},
   "source": [
    "You can see that the optimal_policy accuracy is better than the random_policy."
   ]
  },
  {
   "cell_type": "markdown",
   "metadata": {},
   "source": [
    "### Lab exercise 3\n",
    "\n",
    "1. Change discount factor to at least 20 different data and plot the average reward (y-axis) via the discount factor (x-axis)."
   ]
  },
  {
   "cell_type": "markdown",
   "metadata": {},
   "source": [
    "### Implement with policy iteration\n",
    "\n",
    "A policy iteration algorithm can be subdivided into two components: policy evaluation and policy improvement. It starts with an arbitrary policy. And in each iteration, it first computes the policy values given the latest policy, based on the Bellman expectation equation; it then extracts an improved policy out of the resulting policy values, based on the Bellman optimality equation. It iteratively evaluates the policy and generates an improved version until the policy doesn't change any more.\n",
    "\n",
    "$$ V(s) = \\sum_{s'} T(s,a',s') \\left[ R(s,a,s') + \\gamma V(s') \\right] $$ \n",
    "\n",
    "Once the optimal values are computed, we obtain the optimal policy:\n",
    "\n",
    "$$ \\pi(s) = \\text{argmax}_a \\sum_{s'}T(s,a,s') \\left[ R(s,a,s') + \\gamma V(s') \\right] $$ "
   ]
  },
  {
   "cell_type": "markdown",
   "metadata": {},
   "source": [
    "Modify a policy_evaluation function to support in gym library."
   ]
  },
  {
   "cell_type": "code",
   "execution_count": 78,
   "metadata": {},
   "outputs": [],
   "source": [
    "def policy_evaluation(env, policy, gamma, threshold):\n",
    "    \"\"\"\n",
    "    Perform policy evaluation\n",
    "    @param env: OpenAI Gym environment\n",
    "    @param policy: policy matrix containing actions and \n",
    "                            their probability in each state\n",
    "    @param gamma: discount factor\n",
    "    @param threshold: the evaluation will stop once values for all states are less than the threshold\n",
    "    @return: values of the given policy\n",
    "    \"\"\"\n",
    "    n_state = policy.shape[0]\n",
    "    V = torch.zeros(n_state)\n",
    "    while True:\n",
    "        V_temp = torch.zeros(n_state)\n",
    "        for state in range(n_state):\n",
    "            action = policy[state].item()\n",
    "            for trans_prob, new_state, reward, _ in env.env.P[state][action]:\n",
    "                V_temp[state] += trans_prob * (reward + gamma * V[new_state])\n",
    "        max_delta = torch.max(torch.abs(V - V_temp))\n",
    "        V = V_temp.clone()\n",
    "        if max_delta <= threshold:\n",
    "           break\n",
    "    return V"
   ]
  },
  {
   "cell_type": "markdown",
   "metadata": {},
   "source": [
    "Create a policy_improvement function:"
   ]
  },
  {
   "cell_type": "code",
   "execution_count": 79,
   "metadata": {},
   "outputs": [],
   "source": [
    "def policy_improvement(env, V, gamma):\n",
    "    \"\"\"\n",
    "    Obtain an improved policy based on the values\n",
    "    @param env: OpenAI Gym environment\n",
    "    @param V: policy values\n",
    "    @param gamma: discount factor\n",
    "    @return: the policy\n",
    "    \"\"\"\n",
    "    n_state = env.observation_space.n\n",
    "    n_action = env.action_space.n\n",
    "    policy = torch.zeros(n_state)\n",
    "    for state in range(n_state):\n",
    "        v_actions = torch.zeros(n_action)\n",
    "        for action in range(n_action):\n",
    "            for trans_prob, new_state, reward, _ in env.env.P[state][action]:\n",
    "                v_actions[action] += trans_prob * (reward + gamma * V[new_state])\n",
    "        policy[state] = torch.argmax(v_actions)\n",
    "    return policy"
   ]
  },
  {
   "cell_type": "markdown",
   "metadata": {},
   "source": [
    "Create policy_iteration function. The function combines policy_evaluation and policy_improvement."
   ]
  },
  {
   "cell_type": "code",
   "execution_count": 80,
   "metadata": {},
   "outputs": [],
   "source": [
    "def policy_iteration(env, gamma, threshold):\n",
    "    \"\"\"\n",
    "    Solve a given environment with policy iteration algorithm\n",
    "    @param env: OpenAI Gym environment\n",
    "    @param gamma: discount factor\n",
    "    @param threshold: the evaluation will stop once values \n",
    "                    for all states are less than the threshold\n",
    "    @return: optimal values and the optimal policy for the given \n",
    "              environment\n",
    "    \"\"\"\n",
    "    n_state = env.observation_space.n\n",
    "    n_action = env.action_space.n\n",
    "    policy = torch.randint(high=n_action, size=(n_state,)).float()\n",
    "    while True:\n",
    "        V = policy_evaluation(env, policy, gamma, threshold)\n",
    "        policy_improved = policy_improvement(env, V, gamma)\n",
    "        if torch.equal(policy_improved, policy):\n",
    "            return V, policy_improved\n",
    "        policy = policy_improved"
   ]
  },
  {
   "cell_type": "markdown",
   "metadata": {},
   "source": [
    "Try it"
   ]
  },
  {
   "cell_type": "code",
   "execution_count": 84,
   "metadata": {},
   "outputs": [
    {
     "name": "stdout",
     "output_type": "stream",
     "text": [
      "Optimal values:\n",
      "tensor([0.0689, 0.0614, 0.0744, 0.0558, 0.0918, 0.0000, 0.1122, 0.0000, 0.1454,\n",
      "        0.2475, 0.2996, 0.0000, 0.0000, 0.3799, 0.6390, 0.0000])\n",
      "Optimal policy:\n",
      "tensor([0., 3., 0., 3., 0., 0., 0., 0., 3., 1., 0., 0., 0., 2., 1., 0.])\n"
     ]
    }
   ],
   "source": [
    "V_optimal, optimal_policy = policy_iteration(env, gamma, threshold)\n",
    "\n",
    "print('Optimal values:\\n{}'.format(V_optimal))\n",
    "print('Optimal policy:\\n{}'.format(optimal_policy))"
   ]
  },
  {
   "cell_type": "markdown",
   "metadata": {},
   "source": [
    "Try to run 500 episodes again using the <code>optimal_policy</code>, to check that the winning rate is good or not."
   ]
  },
  {
   "cell_type": "code",
   "execution_count": 85,
   "metadata": {},
   "outputs": [
    {
     "name": "stdout",
     "output_type": "stream",
     "text": [
      "Average total reward under optimal policy: 0.746\n"
     ]
    }
   ],
   "source": [
    "total_rewards = []\n",
    "\n",
    "for episode in range(n_episode):# run an episode\n",
    "    total_reward = run_episode(env, optimal_policy)\n",
    "    total_rewards.append(total_reward)\n",
    "    \n",
    "print('Average total reward under optimal policy: {}'.format(sum(total_rewards) / n_episode))"
   ]
  },
  {
   "cell_type": "markdown",
   "metadata": {},
   "source": [
    "### Lab exercise 4\n",
    "\n",
    "1. Change discount factor to at least 20 different data and plot the average reward (y-axis) via the discount factor (x-axis).\n",
    "2. See the policy evaluation, value iteration, and policy iteration, which one is better in\n",
    " - Fast convergence\n",
    " - Best accuracy"
   ]
  },
  {
   "cell_type": "code",
   "execution_count": null,
   "metadata": {},
   "outputs": [],
   "source": []
  }
 ],
 "metadata": {
  "kernelspec": {
   "display_name": "Python 3",
   "language": "python",
   "name": "python3"
  },
  "language_info": {
   "codemirror_mode": {
    "name": "ipython",
    "version": 3
   },
   "file_extension": ".py",
   "mimetype": "text/x-python",
   "name": "python",
   "nbconvert_exporter": "python",
   "pygments_lexer": "ipython3",
   "version": "3.8.3"
  }
 },
 "nbformat": 4,
 "nbformat_minor": 4
}
