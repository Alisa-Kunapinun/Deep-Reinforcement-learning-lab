{
 "cells": [
  {
   "cell_type": "markdown",
   "metadata": {},
   "source": [
    "# DRL Project: CarRacing\n",
    "\n",
    "As from the Carla needs space around 200 GB and a step render is 1-2 secs (1 episode is a few hours), we decide and change the project to CarRacing.\n",
    "\n",
    "Reference:\n",
    "- https://medium.com/@Mike.W/car-racing-v0-1-improving-openai-gym-cf7d146385cd\n",
    "- https://github.com/NotAnyMike/gym\n",
    "- OpenAI CarRacing Source code: https://github.com/openai/gym/blob/master/gym/envs/box2d/car_racing.py\n",
    "\n",
    "## Instruction\n",
    "\n",
    "1. Please see the https://github.com/NotAnyMike/gym and study how to use and modify the CarRacing environment\n",
    "2. Setup the CarRacing environment as:\n",
    "   - Use the **original map in CarRacing-v0**\n",
    "   - Add random obstacles: **50** obstacles\n",
    "3. In the github respository, you can view and modify the code of CarRacing in https://github.com/NotAnyMike/gym/blob/master/gym/envs/box2d/car_racing.py\n",
    "  - You can modify the **Reward**: This is very important for Reinforcement learning player.\n",
    "  - Modify the **out of lane** farer than 30% will be stopped the episode.\n",
    "  - Modify the continuous running to be stopped after 5400 steps.\n",
    "4. Find the way how to calculate percentage of car running in each lap.\n",
    "5. If your car runs 1 lap, count it.\n",
    "6. Count the obstacles is hit.\n",
    "7. Do not go out of the lane. Count the number of frames which go out of the lane.\n",
    "8. Please show the frame number.\n",
    "  \n",
    "## How to racing\n",
    "1. Each group must run as **long and fast** as possible **without hit the obstacles**, and **not go out of lane**.\n",
    "  - **3 minutes run with 30 frame per sec**. (Total 5400 steps in 1 episode)\n",
    "  - 1 lab is 100 points. If your car run until end of the episode, the percentage of incompleted lap will be added.\n",
    "  - If your car hits an obstablce, the score will be reduced 1 point.\n",
    "  - If your car goes out of lane, each step will be reduced 1 point.\n",
    "  - If your car goes out of lane 30% of lane width, the game will end.\n",
    "2. The group who has the highest score will have the special score higher than other groups.\n",
    "\n",
    "## Explain your algorithm\n",
    "1. Present your algorithm, and your modification in the present project day.\n",
    "  - What the algorithm you use.\n",
    "  - What modification you have done.\n",
    "  - The speed of your model must be declared. (If it is very slow, it is not good, but you can explain how to solve the problem.)\n",
    "2. Before the present day, please submit your **pdf report** as [IEEE format](https://www.ieee.org/conferences/publishing/templates.html). The late submission will not be allowed.\n",
    "3. In the presentation, you **MUST RUN** the game from your best model that you have trained.\n",
    "\n",
    "## For Siraphop\n",
    "1. Use Carla to simulate self-driving car.\n",
    "2. Do not use DDQN\n",
    "3. In the presentation, explain how to use Carla too.\n",
    "4. If real-time running takes long time from rendering, you can record the vdo."
   ]
  },
  {
   "cell_type": "code",
   "execution_count": null,
   "metadata": {},
   "outputs": [],
   "source": []
  }
 ],
 "metadata": {
  "kernelspec": {
   "display_name": "Python 3",
   "language": "python",
   "name": "python3"
  },
  "language_info": {
   "codemirror_mode": {
    "name": "ipython",
    "version": 3
   },
   "file_extension": ".py",
   "mimetype": "text/x-python",
   "name": "python",
   "nbconvert_exporter": "python",
   "pygments_lexer": "ipython3",
   "version": "3.8.3"
  }
 },
 "nbformat": 4,
 "nbformat_minor": 4
}
