{
 "cells": [
  {
   "cell_type": "markdown",
   "id": "545ae00c-d16b-4c95-a6e4-159602f23c8a",
   "metadata": {},
   "source": [
    "# Example 1"
   ]
  },
  {
   "cell_type": "code",
   "execution_count": 1,
   "id": "3e3cfcef-ce7d-4aee-8bba-5ee0b9c7861f",
   "metadata": {},
   "outputs": [],
   "source": [
    "import numpy as np\n",
    "import torch\n",
    "from torch.autograd import Variable"
   ]
  },
  {
   "cell_type": "code",
   "execution_count": 2,
   "id": "b853a9b6-dbac-426c-924f-f8a0d5e822d1",
   "metadata": {},
   "outputs": [],
   "source": [
    "def get_data():\n",
    "    train_X = np.asarray([3.3, 4.4, 5.5, 6.71, 6.93, 4.168, 9.779, 6.182, 7.59, 2.167,\n",
    "                          7.042, 10.791, 5.313, 7.997, 5.654, 9.27, 3.1])\n",
    "    train_Y = np.asarray([1.7, 2.76, 2.09, 3.19, 1.694, 1.573, 3.366, 2.596, 2.53, 1.221,\n",
    "                          2.827, 3.465, 1.65, 2.904, 2.42, 2.94, 1.3])\n",
    "    dtype = torch.FloatTensor\n",
    "    X = Variable(torch.from_numpy(train_X).type(dtype), requires_grad=False).view(17, 1)\n",
    "    y = Variable(torch.from_numpy(train_Y).type(dtype), requires_grad=False)\n",
    "    return X, y\n",
    "\n",
    "def get_weights():\n",
    "    w = Variable(torch.randn(1), requires_grad=True)\n",
    "    b = Variable(torch.randn(1), requires_grad=True)\n",
    "    return w, b\n",
    "\n",
    "def simple_network(x):\n",
    "    y_pred = torch.matmul(x, w)+b\n",
    "    return y_pred\n",
    "\n",
    "def loss_fn(y, y_pred):\n",
    "    loss = (y_pred-y).pow(2).sum()\n",
    "    for param in [w, b]:\n",
    "        if not param.grad is None: param.grad.data.zero_()\n",
    "    loss.backward()\n",
    "    return loss\n",
    "\n",
    "def optimize(learning_rate):\n",
    "    w.data -= learning_rate * w.grad.data\n",
    "    b.data -= learning_rate * b.grad.data"
   ]
  },
  {
   "cell_type": "code",
   "execution_count": 3,
   "id": "7bf80ccd-b4ee-4b83-8978-8dfeaeb51da1",
   "metadata": {},
   "outputs": [
    {
     "name": "stdout",
     "output_type": "stream",
     "text": [
      "tensor(18.5267, grad_fn=<SumBackward0>)\n",
      "tensor([0.3088], requires_grad=True) tensor([0.9447], requires_grad=True)\n"
     ]
    }
   ],
   "source": [
    "x, y = get_data()\n",
    "w, b = get_weights()\n",
    "\n",
    "y_pred = simple_network(x)\n",
    "l = loss_fn(y, y_pred)\n",
    "print(l)\n",
    "optimize(0.001)\n",
    "print(w, b)"
   ]
  },
  {
   "cell_type": "code",
   "execution_count": 4,
   "id": "fbf50c33-7742-4f4f-a272-29cb2755efe0",
   "metadata": {},
   "outputs": [],
   "source": [
    "import matplotlib.pyplot as plt"
   ]
  },
  {
   "cell_type": "code",
   "execution_count": 5,
   "id": "4cfbb896-d847-4f52-8f4e-cfcf2f25cb4e",
   "metadata": {},
   "outputs": [
    {
     "data": {
      "text/plain": [
       "[<matplotlib.lines.Line2D at 0x2094d74b5b0>]"
      ]
     },
     "execution_count": 5,
     "metadata": {},
     "output_type": "execute_result"
    },
    {
     "data": {
      "image/png": "[encoded data removed]",
      "text/plain": [
       "<Figure size 432x288 with 1 Axes>"
      ]
     },
     "metadata": {
      "needs_background": "light"
     },
     "output_type": "display_data"
    }
   ],
   "source": [
    "plt.plot(x, y, 'bo')"
   ]
  },
  {
   "cell_type": "code",
   "execution_count": 6,
   "id": "33cac355-1442-4acd-bb37-e974df427b5c",
   "metadata": {},
   "outputs": [
    {
     "data": {
      "text/plain": [
       "[<matplotlib.lines.Line2D at 0x2094d7e6160>]"
      ]
     },
     "execution_count": 6,
     "metadata": {},
     "output_type": "execute_result"
    },
    {
     "data": {
      "image/png": "[encoded data removed]",
      "text/plain": [
       "<Figure size 432x288 with 1 Axes>"
      ]
     },
     "metadata": {
      "needs_background": "light"
     },
     "output_type": "display_data"
    }
   ],
   "source": [
    "m = np.linspace(0, 10, 100)\n",
    "n = w.detach().numpy()*m+b.detach().numpy()\n",
    "plt.plot(x, y, 'bo')\n",
    "plt.plot(m, n, '-r', label='y=wx+b')"
   ]
  },
  {
   "cell_type": "markdown",
   "id": "a80ca5ab-6a35-4f0a-a753-2b4a81c1a4a2",
   "metadata": {},
   "source": [
    "# Example 2"
   ]
  },
  {
   "cell_type": "code",
   "execution_count": 7,
   "id": "77a12a33-5a6e-4ad7-b72f-3ae6ebb6dd2c",
   "metadata": {},
   "outputs": [],
   "source": [
    "import torch.nn as nn\n",
    "import torch.optim as optim"
   ]
  },
  {
   "cell_type": "code",
   "execution_count": 8,
   "id": "a4e29da4-f451-48d0-9eb5-7e95e7fc3c72",
   "metadata": {},
   "outputs": [
    {
     "data": {
      "text/plain": [
       "tensor([[-0.1869],\n",
       "        [-0.2917]], grad_fn=<AddmmBackward>)"
      ]
     },
     "execution_count": 8,
     "metadata": {},
     "output_type": "execute_result"
    }
   ],
   "source": [
    "linear_model = nn.Linear(1, 1)\n",
    "linear_model(torch.rand(2, 1))"
   ]
  },
  {
   "cell_type": "code",
   "execution_count": 9,
   "id": "b7cd3479-fd03-4c74-8d78-c13677283c18",
   "metadata": {},
   "outputs": [
    {
     "data": {
      "text/plain": [
       "Parameter containing:\n",
       "tensor([[-0.4865]], requires_grad=True)"
      ]
     },
     "execution_count": 9,
     "metadata": {},
     "output_type": "execute_result"
    }
   ],
   "source": [
    "linear_model.weight"
   ]
  },
  {
   "cell_type": "code",
   "execution_count": 10,
   "id": "8d0ba9d1-b959-49f4-8b10-34d51769ed7e",
   "metadata": {},
   "outputs": [
    {
     "data": {
      "text/plain": [
       "Parameter containing:\n",
       "tensor([-0.0037], requires_grad=True)"
      ]
     },
     "execution_count": 10,
     "metadata": {},
     "output_type": "execute_result"
    }
   ],
   "source": [
    "linear_model.bias"
   ]
  },
  {
   "cell_type": "code",
   "execution_count": 11,
   "id": "b0908388-7710-4dc4-90c8-5276b32e710e",
   "metadata": {},
   "outputs": [
    {
     "data": {
      "text/plain": [
       "tensor([-0.4902], grad_fn=<AddBackward0>)"
      ]
     },
     "execution_count": 11,
     "metadata": {},
     "output_type": "execute_result"
    }
   ],
   "source": [
    "x = torch.ones(1)\n",
    "linear_model(x)"
   ]
  },
  {
   "cell_type": "code",
   "execution_count": 12,
   "id": "c17af138-6f36-435f-a907-93a7a54bc718",
   "metadata": {},
   "outputs": [
    {
     "data": {
      "text/plain": [
       "tensor([[-0.4902],\n",
       "        [-0.4902],\n",
       "        [-0.4902],\n",
       "        [-0.4902],\n",
       "        [-0.4902],\n",
       "        [-0.4902],\n",
       "        [-0.4902],\n",
       "        [-0.4902],\n",
       "        [-0.4902],\n",
       "        [-0.4902]], grad_fn=<AddmmBackward>)"
      ]
     },
     "execution_count": 12,
     "metadata": {},
     "output_type": "execute_result"
    }
   ],
   "source": [
    "x = torch.ones(10, 1)\n",
    "linear_model(x)"
   ]
  },
  {
   "cell_type": "code",
   "execution_count": 13,
   "id": "bd92620e-3c4d-4e76-a959-143d282b3248",
   "metadata": {},
   "outputs": [
    {
     "data": {
      "text/plain": [
       "torch.Size([11, 1])"
      ]
     },
     "execution_count": 13,
     "metadata": {},
     "output_type": "execute_result"
    }
   ],
   "source": [
    "t_c = [0.5, 14.0, 15.0, 28.0, 11.0, 8.0, 3.0, -4.0, 6.0, 13.0, 21.0]\n",
    "t_u = [35.7, 55.9, 58.2, 81.9, 56.3, 48.9, 33.9, 21.8, 48.4, 60.4, 68.4]\n",
    "t_c = torch.tensor(t_c).unsqueeze(1)\n",
    "t_u = torch.tensor(t_u).unsqueeze(1)\n",
    "\n",
    "t_u.shape"
   ]
  },
  {
   "cell_type": "code",
   "execution_count": 14,
   "id": "d608d7ab-2129-465e-beed-61d4aa1a864d",
   "metadata": {},
   "outputs": [],
   "source": [
    "t_un = 0.1 * t_u\n",
    "\n",
    "t_un_train = t_un[0:7]\n",
    "t_un_val = t_un[7:11]\n",
    "t_c_train = t_c[0:7]\n",
    "t_c_val = t_c[7:11]"
   ]
  },
  {
   "cell_type": "code",
   "execution_count": 15,
   "id": "0b7a61d8-71eb-41dd-bc0e-747daa1df152",
   "metadata": {},
   "outputs": [],
   "source": [
    "linear_model = nn.Linear(1, 1)\n",
    "optimizer = optim.SGD(\n",
    "    linear_model.parameters(),\n",
    "    lr=1e-2)"
   ]
  },
  {
   "cell_type": "code",
   "execution_count": 16,
   "id": "0496ac94-68dd-4e19-b65f-d564e3993f7e",
   "metadata": {},
   "outputs": [
    {
     "data": {
      "text/plain": [
       "<generator object Module.parameters at 0x000002094D7FFAC0>"
      ]
     },
     "execution_count": 16,
     "metadata": {},
     "output_type": "execute_result"
    }
   ],
   "source": [
    "linear_model.parameters()"
   ]
  },
  {
   "cell_type": "code",
   "execution_count": 17,
   "id": "c9030225-4f26-487f-b04f-0fe103ea0efc",
   "metadata": {},
   "outputs": [
    {
     "data": {
      "text/plain": [
       "[Parameter containing:\n",
       " tensor([[0.9178]], requires_grad=True),\n",
       " Parameter containing:\n",
       " tensor([0.3348], requires_grad=True)]"
      ]
     },
     "execution_count": 17,
     "metadata": {},
     "output_type": "execute_result"
    }
   ],
   "source": [
    "list(linear_model.parameters())"
   ]
  },
  {
   "cell_type": "code",
   "execution_count": 18,
   "id": "8b216994-220c-414c-bb9b-59b352e8e325",
   "metadata": {},
   "outputs": [],
   "source": [
    "def training_loop(n_epochs, optimizer, model, loss_fn, t_u_train, t_u_val, t_c_train, t_c_val):\n",
    "    for epoch in range(1, n_epochs+1):\n",
    "        t_p_train = model(t_u_train)\n",
    "        loss_train = loss_fn(t_p_train, t_c_train)\n",
    "        \n",
    "        t_p_val = model(t_u_val)\n",
    "        \n",
    "        loss_val = loss_fn(t_p_val, t_c_val)\n",
    "        \n",
    "        optimizer.zero_grad()\n",
    "        loss_train.backward()\n",
    "        optimizer.step()\n",
    "        \n",
    "        if epoch == 1 or epoch % 1000 == 0:\n",
    "            print(f'Epoch {epoch}, Training loss {loss_train.item():.4f},')\n",
    "            print(f' Validation loss {loss_val.item():.4f}')"
   ]
  },
  {
   "cell_type": "code",
   "execution_count": 19,
   "id": "7fd4594f-5874-42a5-af51-78f0117a81dd",
   "metadata": {},
   "outputs": [
    {
     "name": "stdout",
     "output_type": "stream",
     "text": [
      "Parameter containing:\n",
      "tensor([[0.6892]], requires_grad=True)\n",
      "Parameter containing:\n",
      "tensor([0.9340], requires_grad=True)\n",
      "\n",
      "Epoch 1, Training loss 100.7495,\n",
      " Validation loss 85.6416\n",
      "Epoch 1000, Training loss 3.6476,\n",
      " Validation loss 5.5094\n",
      "Epoch 2000, Training loss 2.1713,\n",
      " Validation loss 4.5128\n",
      "Epoch 3000, Training loss 2.0869,\n",
      " Validation loss 4.6826\n",
      "\n",
      "Parameter containing:\n",
      "tensor([[5.5068]], requires_grad=True)\n",
      "Parameter containing:\n",
      "tensor([-17.7944], requires_grad=True)\n"
     ]
    }
   ],
   "source": [
    "linear_model = nn.Linear(1, 1)\n",
    "optimizer = optim.SGD(\n",
    "    linear_model.parameters(),\n",
    "    lr=1e-2)\n",
    "\n",
    "print(linear_model.weight)\n",
    "print(linear_model.bias)\n",
    "print()\n",
    "\n",
    "training_loop(\n",
    "    n_epochs=3000,\n",
    "    optimizer=optimizer,\n",
    "    model=linear_model,\n",
    "    loss_fn=nn.MSELoss(),\n",
    "    t_u_train=t_un_train,\n",
    "    t_u_val=t_un_val,\n",
    "    t_c_train=t_c_train,\n",
    "    t_c_val=t_c_val\n",
    ")\n",
    "\n",
    "print()\n",
    "print(linear_model.weight)\n",
    "print(linear_model.bias)"
   ]
  },
  {
   "cell_type": "markdown",
   "id": "c08b489a-2750-4924-a908-3820b8786663",
   "metadata": {},
   "source": [
    "# Q: What is the second example equation?\n",
    "# A: It is a linear equation. 5.5068*X - 17.7944 which X is normalized by multiple 0.1"
   ]
  },
  {
   "cell_type": "markdown",
   "id": "0f8d1522-8cd8-4065-8179-34671f0e1cdc",
   "metadata": {},
   "source": [
    "# Using 2 layers model"
   ]
  },
  {
   "cell_type": "code",
   "execution_count": 20,
   "id": "7a5b6a87-d65b-49c8-91d8-fc5fd2471742",
   "metadata": {},
   "outputs": [],
   "source": [
    "seg_model = nn.Sequential(\n",
    "    nn.Linear(1, 13),\n",
    "    nn.Tanh(),\n",
    "    nn.Linear(13, 1))\n",
    "\n",
    "optimizer = optim.SGD(\n",
    "    seg_model.parameters(),\n",
    "    lr=1e-2)"
   ]
  },
  {
   "cell_type": "code",
   "execution_count": 21,
   "id": "a82374ae-b551-4b69-b2ef-586f636a5984",
   "metadata": {},
   "outputs": [
    {
     "name": "stdout",
     "output_type": "stream",
     "text": [
      "Epoch 1, Training loss 195.3639,\n",
      " Validation loss 161.7141\n",
      "Epoch 1000, Training loss 15.0079,\n",
      " Validation loss 13.5719\n",
      "Epoch 2000, Training loss 2.4748,\n",
      " Validation loss 18.5192\n",
      "Epoch 3000, Training loss 1.5751,\n",
      " Validation loss 16.3282\n",
      "Epoch 4000, Training loss 1.5788,\n",
      " Validation loss 20.9819\n",
      "Epoch 5000, Training loss 1.5491,\n",
      " Validation loss 21.2575\n",
      "Epoch 6000, Training loss 1.5251,\n",
      " Validation loss 21.4834\n",
      "Epoch 7000, Training loss 1.5052,\n",
      " Validation loss 21.7083\n",
      "Epoch 8000, Training loss 1.4884,\n",
      " Validation loss 21.9310\n",
      "Epoch 9000, Training loss 1.4740,\n",
      " Validation loss 22.1504\n",
      "Epoch 10000, Training loss 1.4614,\n",
      " Validation loss 22.3657\n"
     ]
    }
   ],
   "source": [
    "training_loop(\n",
    "    n_epochs=10000,\n",
    "    optimizer=optimizer,\n",
    "    model=seg_model,\n",
    "    loss_fn=nn.MSELoss(),\n",
    "    t_u_train=t_un_train,\n",
    "    t_u_val=t_un_val,\n",
    "    t_c_train=t_c_train,\n",
    "    t_c_val=t_c_val\n",
    ")"
   ]
  },
  {
   "cell_type": "markdown",
   "id": "f035747b-f0ba-4285-9b01-25ef2b69e222",
   "metadata": {},
   "source": [
    "# When using 2 layers model, the model is overfitting to training set."
   ]
  }
 ],
 "metadata": {
  "kernelspec": {
   "display_name": "Python 3 (ipykernel)",
   "language": "python",
   "name": "python3"
  },
  "language_info": {
   "codemirror_mode": {
    "name": "ipython",
    "version": 3
   },
   "file_extension": ".py",
   "mimetype": "text/x-python",
   "name": "python",
   "nbconvert_exporter": "python",
   "pygments_lexer": "ipython3",
   "version": "3.8.10"
  }
 },
 "nbformat": 4,
 "nbformat_minor": 5
}
