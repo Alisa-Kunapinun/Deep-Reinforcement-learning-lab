{
 "cells": [
  {
   "cell_type": "markdown",
   "id": "87dcecba-de1c-4fe3-b425-c385e0b0ea4c",
   "metadata": {
    "tags": []
   },
   "source": [
    "# Homework 1"
   ]
  },
  {
   "cell_type": "code",
   "execution_count": 1,
   "id": "a859f68d-00a8-4d1f-952f-7d5329fbd2a0",
   "metadata": {},
   "outputs": [],
   "source": [
    "id2salary = {0:1000, 3:990, 1:1200.5}\n",
    "names = ['Larry', 'Curly', '', 'Moe']"
   ]
  },
  {
   "cell_type": "code",
   "execution_count": 2,
   "id": "7f4ff9a8-ac29-4c04-8a30-a980f7f1780d",
   "metadata": {},
   "outputs": [
    {
     "name": "stdout",
     "output_type": "stream",
     "text": [
      "{'Larry': 1000, 'Moe': 990, 'Curly': 1200.5}\n"
     ]
    }
   ],
   "source": [
    "name2salary = {names[name]:salary for (name, salary) in id2salary.items()}\n",
    "print(name2salary)"
   ]
  },
  {
   "cell_type": "markdown",
   "id": "ef34a915-7ca2-47e0-b6b6-0e2e7214f7e4",
   "metadata": {},
   "source": [
    "# Homework 2"
   ]
  },
  {
   "cell_type": "code",
   "execution_count": 3,
   "id": "50704669-61ff-4365-89e4-11b7c008758d",
   "metadata": {},
   "outputs": [],
   "source": [
    "def word_count(filename):\n",
    "    file = open(filename, 'r')\n",
    "    txt = file.readlines()\n",
    "    file.close()\n",
    "    \n",
    "    n_char = sum([len(txt[n]) for n in range(len(txt))])\n",
    "    n_word = sum([len(txt[n].split()) for n in range(len(txt))])\n",
    "    n_line = len(txt)\n",
    "    \n",
    "    print('Number of characters: '+str(n_char))\n",
    "    print('Number of words: '+str(n_word))\n",
    "    print('Number of lines: '+str(n_line))"
   ]
  },
  {
   "cell_type": "code",
   "execution_count": 4,
   "id": "74dcb818-a215-43d3-bb6e-cc6011df30bb",
   "metadata": {},
   "outputs": [
    {
     "name": "stdout",
     "output_type": "stream",
     "text": [
      "Number of characters: 1186\n",
      "Number of words: 167\n",
      "Number of lines: 18\n"
     ]
    }
   ],
   "source": [
    "word_count('python_wiki.txt')"
   ]
  }
 ],
 "metadata": {
  "kernelspec": {
   "display_name": "Python 3",
   "language": "python",
   "name": "python3"
  },
  "language_info": {
   "codemirror_mode": {
    "name": "ipython",
    "version": 3
   },
   "file_extension": ".py",
   "mimetype": "text/x-python",
   "name": "python",
   "nbconvert_exporter": "python",
   "pygments_lexer": "ipython3",
   "version": "3.8.8"
  }
 },
 "nbformat": 4,
 "nbformat_minor": 5
}
